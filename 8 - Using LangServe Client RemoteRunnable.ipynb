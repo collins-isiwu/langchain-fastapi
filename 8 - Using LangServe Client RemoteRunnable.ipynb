{
 "cells": [
  {
   "cell_type": "code",
   "execution_count": 11,
   "metadata": {},
   "outputs": [],
   "source": [
    "from langserve import RemoteRunnable\n",
    "\n",
    "chain_endpoint = \"http://localhost:8100/chain/\""
   ]
  },
  {
   "cell_type": "code",
   "execution_count": 12,
   "metadata": {},
   "outputs": [],
   "source": [
    "chain = RemoteRunnable(chain_endpoint)"
   ]
  },
  {
   "cell_type": "code",
   "execution_count": 13,
   "metadata": {},
   "outputs": [
    {
     "data": {
      "text/plain": [
       "'New York City is located in the northeastern United States, specifically in southeastern New York State, and is positioned approximately halfway between Washington, D.C. and Boston. The city is primarily built on three islands: Long Island, Manhattan, and Staten Island, and it has grown in significance as a trading port due to its location at the mouth of the Hudson River, which leads into a naturally sheltered harbor and the Atlantic Ocean.\\n\\nCulturally, New York City is often regarded as the cultural capital of the world, serving as the birthplace of various cultural movements such as the Harlem Renaissance, abstract expressionism, and several music genres including hip-hop, punk, and disco. The city is noted for its fast pace, leading to the popular phrase \"New York minute,\" and its residents are recognized for their resilience, particularly in the aftermath of events like the September 11 terrorist attacks and the COVID-19 pandemic. In fact, New York was voted the world\\'s most resilient city in 2021 and 2022 according to a global poll by Time Out.'"
      ]
     },
     "execution_count": 13,
     "metadata": {},
     "output_type": "execute_result"
    }
   ],
   "source": [
    "chain.invoke(\"Tell me about NY\")"
   ]
  },
  {
   "cell_type": "code",
   "execution_count": null,
   "metadata": {},
   "outputs": [],
   "source": [
    "# for chunk in chain.stream(\"what do you know about Boise?\"):\n",
    "#    print(chunk)"
   ]
  },
  {
   "cell_type": "code",
   "execution_count": 14,
   "metadata": {},
   "outputs": [
    {
     "ename": "TypeError",
     "evalue": "object str can't be used in 'await' expression",
     "output_type": "error",
     "traceback": [
      "\u001b[1;31m---------------------------------------------------------------------------\u001b[0m",
      "\u001b[1;31mTypeError\u001b[0m                                 Traceback (most recent call last)",
      "Cell \u001b[1;32mIn[14], line 1\u001b[0m\n\u001b[1;32m----> 1\u001b[0m \u001b[38;5;28;01mawait\u001b[39;00m chain\u001b[38;5;241m.\u001b[39minvoke(\u001b[38;5;124m\"\u001b[39m\u001b[38;5;124mTell me about NY\u001b[39m\u001b[38;5;124m\"\u001b[39m)\n",
      "\u001b[1;31mTypeError\u001b[0m: object str can't be used in 'await' expression"
     ]
    }
   ],
   "source": [
    "await chain.invoke(\"Tell me about NY\")"
   ]
  },
  {
   "cell_type": "code",
   "execution_count": null,
   "metadata": {},
   "outputs": [],
   "source": [
    "async for chunk in chain.astream('What do you know about Boise?'):\n",
    "    print(chunk)"
   ]
  },
  {
   "cell_type": "code",
   "execution_count": 16,
   "metadata": {},
   "outputs": [],
   "source": [
    "# For reusability\n",
    "\n",
    "from langchain_core.prompts import PromptTemplate\n",
    "from langchain_core.runnables import RunnablePassthrough\n",
    "\n",
    "prompt = PromptTemplate.from_template(\"Tell me about {topic}\")\n",
    "\n",
    "def format_prompt(inputs):\n",
    "    prompt_value = prompt.format_prompt(**inputs)\n",
    "    return prompt_value.to_string()\n",
    "\n",
    "\n",
    "new_chain = RunnablePassthrough() | format_prompt | chain"
   ]
  },
  {
   "cell_type": "code",
   "execution_count": 19,
   "metadata": {},
   "outputs": [
    {
     "data": {
      "text/plain": [
       "\"Boise offers a variety of dining options, particularly in its downtown area, which serves as the cultural center of the city. While it may not have a major retail or dining focus like larger cities such as Seattle and Portland, downtown Boise features a range of local restaurants, bars, and boutiques, contributing to a vibrant nightlife. A notable area is 8th Street, which includes a pedestrian zone with sidewalk cafes and restaurants. Additionally, the Basque Block provides visitors with the opportunity to explore and enjoy Boise's Basque heritage through its culinary offerings.\""
      ]
     },
     "execution_count": 19,
     "metadata": {},
     "output_type": "execute_result"
    }
   ],
   "source": [
    "new_chain.invoke({\n",
    "    'topic': 'Boise Food'\n",
    "})"
   ]
  },
  {
   "cell_type": "code",
   "execution_count": null,
   "metadata": {},
   "outputs": [],
   "source": []
  },
  {
   "cell_type": "code",
   "execution_count": null,
   "metadata": {},
   "outputs": [],
   "source": []
  },
  {
   "cell_type": "code",
   "execution_count": null,
   "metadata": {},
   "outputs": [],
   "source": []
  },
  {
   "cell_type": "code",
   "execution_count": null,
   "metadata": {},
   "outputs": [],
   "source": []
  }
 ],
 "metadata": {
  "kernelspec": {
   "display_name": ".venv",
   "language": "python",
   "name": "python3"
  },
  "language_info": {
   "codemirror_mode": {
    "name": "ipython",
    "version": 3
   },
   "file_extension": ".py",
   "mimetype": "text/x-python",
   "name": "python",
   "nbconvert_exporter": "python",
   "pygments_lexer": "ipython3",
   "version": "3.12.0"
  }
 },
 "nbformat": 4,
 "nbformat_minor": 2
}
