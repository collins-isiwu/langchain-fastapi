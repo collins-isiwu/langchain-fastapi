{
 "cells": [
  {
   "cell_type": "code",
   "execution_count": 1,
   "metadata": {},
   "outputs": [],
   "source": [
    "import requests"
   ]
  },
  {
   "cell_type": "code",
   "execution_count": 3,
   "metadata": {},
   "outputs": [
    {
     "data": {
      "text/plain": [
       "'http://localhost:8100/chain/invoke'"
      ]
     },
     "execution_count": 3,
     "metadata": {},
     "output_type": "execute_result"
    }
   ],
   "source": [
    "endpoint = \"http://localhost:8100/chain\"\n",
    "chain_type = \"/invoke\"\n",
    "url = f\"{endpoint}{chain_type}\"\n",
    "url"
   ]
  },
  {
   "cell_type": "code",
   "execution_count": 4,
   "metadata": {},
   "outputs": [],
   "source": [
    "data = {'input': 'Tell about New York'}"
   ]
  },
  {
   "cell_type": "code",
   "execution_count": 5,
   "metadata": {},
   "outputs": [],
   "source": [
    "r = requests.post(url, json=data)"
   ]
  },
  {
   "cell_type": "code",
   "execution_count": 7,
   "metadata": {},
   "outputs": [
    {
     "data": {
      "text/plain": [
       "\"New York City, located in southeastern New York State, is a significant cultural capital of the world, known for its fast pace and resilience. It has been the birthplace of numerous cultural movements, including the Harlem Renaissance in literature and visual arts, abstract expressionism in painting, and various music genres such as hip-hop and punk. The city is predominantly built on three islands: Long Island, Manhattan, and Staten Island, and its strategic location at the mouth of the Hudson River has established it as a vital trading port.\\n\\nHistorically, New York City's residents have shown remarkable resilience, particularly in the aftermath of events like the September 11 attacks and the COVID-19 pandemic. This resilience was recognized in 2021 and 2022 when the city was voted the world's most resilient city in a global poll. Additionally, New York City is often referred to as the dance capital of the world, reflecting its rich cultural scene.\""
      ]
     },
     "execution_count": 7,
     "metadata": {},
     "output_type": "execute_result"
    }
   ],
   "source": [
    "r.json()['output']"
   ]
  },
  {
   "cell_type": "code",
   "execution_count": null,
   "metadata": {},
   "outputs": [],
   "source": [
    "# To run on curl\n",
    "# curl -X POST http://localhost:8100/chain/stream -H \"Content-Type: application/json\" -d \"{\\\"input\\\": \\\"Tell me about the big apple\\\"}\""
   ]
  },
  {
   "cell_type": "code",
   "execution_count": null,
   "metadata": {},
   "outputs": [],
   "source": []
  },
  {
   "cell_type": "code",
   "execution_count": null,
   "metadata": {},
   "outputs": [],
   "source": []
  },
  {
   "cell_type": "code",
   "execution_count": null,
   "metadata": {},
   "outputs": [],
   "source": []
  }
 ],
 "metadata": {
  "kernelspec": {
   "display_name": ".venv",
   "language": "python",
   "name": "python3"
  },
  "language_info": {
   "codemirror_mode": {
    "name": "ipython",
    "version": 3
   },
   "file_extension": ".py",
   "mimetype": "text/x-python",
   "name": "python",
   "nbconvert_exporter": "python",
   "pygments_lexer": "ipython3",
   "version": "3.12.0"
  }
 },
 "nbformat": 4,
 "nbformat_minor": 2
}
